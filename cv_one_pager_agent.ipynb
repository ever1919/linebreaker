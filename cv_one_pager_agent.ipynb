{
 "cells": [
  {
   "cell_type": "code",
   "execution_count": 15,
   "metadata": {},
   "outputs": [],
   "source": [
    "import os\n",
    "import pdfplumber\n",
    "import pandas as pd\n",
    "from openai import OpenAI\n",
    "import json"
   ]
  },
  {
   "cell_type": "code",
   "execution_count": 16,
   "metadata": {},
   "outputs": [],
   "source": [
    "api_key = \"ADD_KEY\""
   ]
  },
  {
   "cell_type": "code",
   "execution_count": 17,
   "metadata": {},
   "outputs": [],
   "source": [
    "import packaging\n",
    "from openai import OpenAI\n",
    "client = OpenAI(api_key = api_key)"
   ]
  },
  {
   "cell_type": "code",
   "execution_count": 78,
   "metadata": {},
   "outputs": [],
   "source": [
    "def extract_text_from_pdf(pdf_path):\n",
    "    \"\"\"Extract text from all pages of the PDF.\"\"\"\n",
    "    text = \"\"\n",
    "    with pdfplumber.open(pdf_path) as pdf:\n",
    "        for page in pdf.pages:\n",
    "            page_text = page.extract_text()\n",
    "            if page_text:\n",
    "                text += page_text + \"\\n\"\n",
    "    return text.strip()\n",
    "\n",
    "def generate_sections(cv_text, section_name):\n",
    "    \"\"\"Generate one structured section (no bullets, bold keywords).\"\"\"\n",
    "    prompt = f\"\"\"\n",
    "    You are an AI assistant that summarizes a candidate CV into specific structured sections. Do NOT create new sections.\n",
    "    Write the output in English.\n",
    "    Return an dictionary where the section is the Key and the its information is the Value.\n",
    "\n",
    "    SECTIONS TO GENERATE: {section_name}\n",
    "\n",
    "    Formatting rules:\n",
    "    - Use line breaks to separate each idea or item. Do NOT use bullet symbols or dashes.\n",
    "    - Bold **keywords**, skills, or technologies (except for LANGUAGES section).\n",
    "    - Maintain concise, professional tone.\n",
    "    - Exclude candidate name, company names, institutions, and dates.\n",
    "    - Assume Graphik 9 font style.\n",
    "\n",
    "    Section details:\n",
    "    - PROFILE OVERVIEW: One concise paragraph summarizing the candidate’s experience, skills, expertise, and key achievements. No names or languages.\n",
    "    - PROFESSIONAL EDUCATION: List only degree names, separated by line breaks. Do NOT repeat information. Do NOT mention High School information.\n",
    "    - INDUSTRY EXPERIENCE: Line-separated list of industries mapped to Accenture taxonomy:\n",
    "        Communications, Media & Technology → Communications, Media & Entertainment, High Tech, Software & Platforms\n",
    "        Financial Services → Banking, Capital Markets, Insurance\n",
    "        Health & Public Service → Health, Public Service\n",
    "        Products → Consumer Goods & Services, Life Sciences, Retail, Industrial, Automotive, Travel\n",
    "        Resources → Energy, Chemicals, Utilities, Natural Resources\n",
    "    - FUNCTIONAL EXPERIENCE: Line-separated list of functional expertise or focus areas.\n",
    "    - CERTIFICATIONS/TRAINING: Line-separated list of certification or training program names.\n",
    "    - LANGUAGES: List only the languages and proficiency levels (e.g., English B2, Spanish Native). Each on a separate line. No bold or bullets.\n",
    "\n",
    "    Candidate CV:\n",
    "    {cv_text}\n",
    "    \"\"\"\n",
    "\n",
    "    response = client.chat.completions.create(\n",
    "        model=\"gpt-4o-mini\",  # You can upgrade to gpt-4o or gpt-5\n",
    "        messages=[{\"role\": \"user\", \"content\": prompt}],\n",
    "        temperature=0.3\n",
    "    )\n",
    "    return response.choices[0].message.content.strip()\n",
    "\n",
    "def generate_roles(cv_text):\n",
    "    \"\"\"Generate up to 4 roles, formatted with bold keywords and line breaks only.\"\"\"\n",
    "    prompt = f\"\"\"\n",
    "    You are an AI assistant that extracts and rewrites a candidate’s RELEVANT EXPERIENCE into up to 4 roles.\n",
    "\n",
    "    Formatting and style:\n",
    "    - Each role must have this structure:\n",
    "        Role Title\n",
    "        Responsibility or achievement #1\n",
    "        Responsibility or achievement #2\n",
    "        ...\n",
    "    - Use **bold** for key words, skills, tools, or technologies.\n",
    "    - Do NOT use bullets or dashes — only separate lines with line breaks.\n",
    "    - Exclude company names, institutions, and dates.\n",
    "    - Keep concise, professional English tone.\n",
    "    - Maximum of 4 roles. If fewer exist, only return those.\n",
    "\n",
    "    Candidate CV:\n",
    "    {cv_text}\n",
    "    \"\"\"\n",
    "\n",
    "    response = client.chat.completions.create(\n",
    "        model=\"gpt-4o-mini\",\n",
    "        messages=[{\"role\": \"user\", \"content\": prompt}],\n",
    "        temperature=0.3\n",
    "    )\n",
    "\n",
    "    text = response.choices[0].message.content.strip()\n",
    "\n",
    "    # Split each role block by double line breaks\n",
    "    roles = [r.strip() for r in text.split(\"\\n\\n\") if r.strip()]\n",
    "    return roles[:4]"
   ]
  },
  {
   "cell_type": "code",
   "execution_count": 79,
   "metadata": {},
   "outputs": [],
   "source": [
    "def generate_one_pager(cv_path, output_path=\"one_pager_summary.xlsx\"):\n",
    "    \"\"\"Generate all sections and export as Excel file.\"\"\"\n",
    "    cv_text = extract_text_from_pdf(cv_path)\n",
    "\n",
    "    sections = [\n",
    "        \"PROFILE OVERVIEW\",\n",
    "        \"PROFESSIONAL EDUCATION\",\n",
    "        \"INDUSTRY EXPERIENCE\",\n",
    "        \"FUNCTIONAL EXPERIENCE\",\n",
    "        \"CERTIFICATIONS/TRAINING\",\n",
    "        \"LANGUAGES\"\n",
    "    ]\n",
    "\n",
    "    # Generate fixed sections\n",
    "    print(\"🔹 Generating: SECTIONS...\")\n",
    "    sections = generate_sections(cv_text, sections)\n",
    "    response_dic = json.loads(sections)\n",
    "\n",
    "    # Generate dynamic roles\n",
    "    print(\"🔹 Generating: RELEVANT EXPERIENCE (Roles)...\")\n",
    "    roles = generate_roles(cv_text)\n",
    "    for i, element in enumerate(roles):\n",
    "        response_dic[f\"Role_{i+1}\"] = element\n",
    "\n",
    "    # Create DataFrame and export\n",
    "    df = pd.DataFrame(list(response_dic.items()), columns=[\"section_name\", \"output\"])\n",
    "    df.to_excel(output_path, index=False)\n",
    "    print(f\"\\n✅ One Pager Excel file created successfully: {output_path}\")"
   ]
  },
  {
   "cell_type": "code",
   "execution_count": 80,
   "metadata": {},
   "outputs": [
    {
     "name": "stdout",
     "output_type": "stream",
     "text": [
      "🔹 Generating: SECTIONS...\n",
      "🔹 Generating: RELEVANT EXPERIENCE (Roles)...\n",
      "\n",
      "✅ One Pager Excel file created successfully: one_pager_summary.xlsx\n"
     ]
    }
   ],
   "source": [
    "# Example usage\n",
    "if __name__ == \"__main__\":\n",
    "    pdf_path = \"candidate_cv.pdf\"\n",
    "    generate_one_pager(pdf_path)"
   ]
  }
 ],
 "metadata": {
  "kernelspec": {
   "display_name": "Python 3",
   "language": "python",
   "name": "python3"
  },
  "language_info": {
   "codemirror_mode": {
    "name": "ipython",
    "version": 3
   },
   "file_extension": ".py",
   "mimetype": "text/x-python",
   "name": "python",
   "nbconvert_exporter": "python",
   "pygments_lexer": "ipython3",
   "version": "3.10.0"
  }
 },
 "nbformat": 4,
 "nbformat_minor": 2
}
