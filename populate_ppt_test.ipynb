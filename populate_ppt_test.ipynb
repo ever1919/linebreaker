{
 "cells": [
  {
   "cell_type": "code",
   "execution_count": 29,
   "id": "df9e92ff",
   "metadata": {},
   "outputs": [],
   "source": [
    "import pandas as pd\n",
    "from pptx import Presentation\n",
    "import re"
   ]
  },
  {
   "cell_type": "code",
   "execution_count": 40,
   "id": "92009bb3",
   "metadata": {},
   "outputs": [],
   "source": [
    "df_text = pd.read_excel('data/output/candidate_cv_one_pager.xlsx')"
   ]
  },
  {
   "cell_type": "markdown",
   "id": "20df1256",
   "metadata": {},
   "source": [
    "#### Test logic updating only funct_exp box (below FUNCTIONAL EXPERIENCE title)\n",
    "\n",
    "Tasks performed:\n",
    "- Modification in Template file: Drawing > Arrange > Named rectangle under FUNCTIONAL EXPERIENCE as funct_exp\n",
    "- Test update one shape funct_exp\n",
    "- Bullet were manually set. This is an automation to use as [reference](https://gist.github.com/documentprocessing/d103ec68dc7c3ca93a65de438d3562e1) I wasn't able to recreate it."
   ]
  },
  {
   "cell_type": "code",
   "execution_count": 78,
   "id": "39ec5a8f",
   "metadata": {},
   "outputs": [
    {
     "name": "stdout",
     "output_type": "stream",
     "text": [
      "funct_exp\n"
     ]
    }
   ],
   "source": [
    "from pptx import Presentation\n",
    "from pptx.util import Pt\n",
    "from pptx.dml.color import RGBColor\n",
    "\n",
    "prs = Presentation('SC&O OP VACIO - TEMPLATE 3 - New.pptx')\n",
    "\n",
    "# Extract string from DataFrame\n",
    "func_exp_str = df_text.loc[df_text['section_name'] == 'FUNCTIONAL EXPERIENCE', 'output'].iloc[0]\n",
    "func_exp_str = str(func_exp_str)\n",
    "\n",
    "slide = prs.slides[0]\n",
    "for shape in slide.shapes:\n",
    "    if shape.has_text_frame and shape.name.strip().lower() == 'funct_exp':\n",
    "        print(shape.name)\n",
    "        tf = shape.text_frame\n",
    "        tf.clear()\n",
    "\n",
    "        # Build a single string with bullet characters\n",
    "        bullet_lines = \"\\n\".join([f\"• {line}\" for line in func_exp_str.splitlines()])\n",
    "        tf.text = bullet_lines\n",
    "\n",
    "        # Apply font and size to all runs\n",
    "        for paragraph in tf.paragraphs:\n",
    "            for run in paragraph.runs:\n",
    "                run.font.name = \"Graphik\"\n",
    "                run.font.size = Pt(9)\n",
    "                run.font.color.rgb = RGBColor(0, 0, 0)  # black\n",
    "\n",
    "prs.save(\"updated_presentation_test.pptx\")\n"
   ]
  },
  {
   "cell_type": "markdown",
   "id": "9bb797b3",
   "metadata": {},
   "source": [
    "#### Ever/Mari testing\n",
    "\n",
    "Discarded due to it leads to the same table that is in one_pager_summary.xlsx"
   ]
  },
  {
   "cell_type": "code",
   "execution_count": null,
   "id": "b0e17ee6",
   "metadata": {},
   "outputs": [],
   "source": [
    "prs = Presentation('SC&O OP VACIO - TEMPLATE 3 - New.pptx')\n",
    "slide = prs.slides[0]\n",
    "dic = {}\n",
    "section_name = []\n",
    "section_text = []\n",
    "for shape in slide.shapes:\n",
    "    section_name.append(shape.name)\n",
    "    dic[shape.name] = None\n",
    "    if shape.has_text_frame:\n",
    "        section_text.append(shape.text)\n",
    "        dic[shape.name] = shape.text"
   ]
  },
  {
   "cell_type": "code",
   "execution_count": 27,
   "id": "7545d379",
   "metadata": {},
   "outputs": [
    {
     "data": {
      "text/plain": [
       "{'Rectangle 4': '',\n",
       " 'Picture 40': None,\n",
       " 'Nombre': 'Valentín Enzo Bertolini',\n",
       " 'TextBox 80': 'CERTIFICATIONS/TRAINING',\n",
       " 'Functional Experience': 'Functional Experience',\n",
       " 'Rectangle 82': '\\n',\n",
       " 'TextBox 83': 'INDUSTRY EXPERIENCE',\n",
       " 'TextBox 85': 'Consulting analyst  ',\n",
       " 'Rectangle 86': '.com',\n",
       " 'TextBox 87': 'PROFILE OVERVIEW',\n",
       " 'Rectangle 3': '',\n",
       " 'TextBox 88': 'RELEVANT EXPERIENCE',\n",
       " 'TextBox 89': 'Accenture\\nBuenos Aires, Argentina\\nID@accenture.com',\n",
       " 'Professional Experience': 'Valentín has over 3 years of experience as a software developer, specializing in **fullstack development** and **generative AI solutions**. He has demonstrated expertise in **Python**, **SQL**, and **C#**, with a strong focus on **automation** and **data-driven tasks**. His entrepreneurial attitude drives him to develop creative solutions and enhance operational efficiency through innovative technologies.',\n",
       " 'Functional Experience Text': 'Software Development\\nGenerative AI Development\\nClient Interaction\\nData Processing Automation',\n",
       " 'Rectangle 8': '',\n",
       " 'Rectangle 9': '',\n",
       " 'Industry Experience': 'Healthcare\\nE-Commerce\\nConsulting\\nSupply Chain',\n",
       " 'Role #3': 'Generative AI Developer - OCR Solutions\\nDeveloped **OCR-based generative AI solutions** leveraging fine-tuned **GPT models** to automate document processing, significantly reducing manual data entry for retentions and invoices.\\nLed the end-to-end model fine-tuning process, from **data labeling** to deployment, which improved accuracy and operational efficiency, while managing client interactions to iteratively enhance AI model performance.',\n",
       " 'Role #2': 'Generative AI Developer - Agentic Warehouse Throughput Orchestrator\\nEngineered an internal asset for Accenture, utilizing **Python** and **SimPy** to create an **Agentic AI** that suggests rebalancing plans for lagging queues in a simulated warehouse environment.\\nDesigned and implemented a **frontend UI** using **React** and **Chakra**, enhancing user interaction and experience while integrating complex backend algorithms for real-time data processing.',\n",
       " 'Role #1': 'Fullstack Developer\\nDeveloped and maintained a **third-party healthcare application** using the **.NET Framework**, ensuring high-quality code and adherence to best practices in software development.\\nConducted **cost and duration analysis** of assignments, optimizing project timelines and resource allocation, while managing client feedback to enhance service delivery and satisfaction.',\n",
       " 'Certs': 'UBA: LLMs From Zero to Hero',\n",
       " 'Professional Education': 'Computer Science',\n",
       " 'TextBox 12': 'Professional Experience:',\n",
       " 'TextBox 13': 'Professional Education',\n",
       " 'TextBox 14': 'Languages',\n",
       " 'Languages': 'Spanish Native\\nEnglish C1',\n",
       " 'Digi': '\\x0bSupply chain digital strategy ',\n",
       " 'Tower': 'CONTROL TOWER',\n",
       " 'Role #4': 'Generative AI Developer - Disney Parks Recipe Sandbox\\nCreated a **Generative AI Agent** for Disney Parks within the **Recipe Sandbox system**, integrating a conversational agent with over 230,000 ingredients.\\nImplemented an **embeddings and RAG system** to efficiently retrieve useful information, utilizing **OpenAI LLMs** and **Milvus** as a vectorial database, enhancing the overall functionality and user engagement of the system.'}"
      ]
     },
     "execution_count": 27,
     "metadata": {},
     "output_type": "execute_result"
    }
   ],
   "source": [
    "dic"
   ]
  },
  {
   "cell_type": "code",
   "execution_count": 50,
   "id": "649043c9",
   "metadata": {},
   "outputs": [],
   "source": [
    "# def find_shape_by_text(slide, text):\n",
    "#     \"\"\"Return the shape that contains the given text.\"\"\"\n",
    "#     for shape in slide.shapes:\n",
    "#         if hasattr(shape, \"text\") and text in shape.text:\n",
    "#             return shape\n",
    "#     return None\n",
    "\n",
    "def set_text_with_formatting(shape, text):\n",
    "    \"\"\"Replace shape text and apply bold where **word** markers appear.\"\"\"\n",
    "    text_frame = shape.text_frame\n",
    "    text_frame.clear()\n",
    "    \n",
    "    parts = re.split(r\"(\\*\\*.*?\\*\\*)\", text)\n",
    "    p = text_frame.add_paragraph()\n",
    "    \n",
    "    for part in parts:\n",
    "        if not part:\n",
    "            continue\n",
    "        run = p.add_run()\n",
    "        if part.startswith(\"**\") and part.endswith(\"**\"):\n",
    "            run.text = part[2:-2]\n",
    "            run.font.bold = True\n",
    "        else:\n",
    "            run.text = part"
   ]
  },
  {
   "cell_type": "code",
   "execution_count": 31,
   "id": "10c36a0f",
   "metadata": {},
   "outputs": [
    {
     "data": {
      "text/html": [
       "<div>\n",
       "<style scoped>\n",
       "    .dataframe tbody tr th:only-of-type {\n",
       "        vertical-align: middle;\n",
       "    }\n",
       "\n",
       "    .dataframe tbody tr th {\n",
       "        vertical-align: top;\n",
       "    }\n",
       "\n",
       "    .dataframe thead th {\n",
       "        text-align: right;\n",
       "    }\n",
       "</style>\n",
       "<table border=\"1\" class=\"dataframe\">\n",
       "  <thead>\n",
       "    <tr style=\"text-align: right;\">\n",
       "      <th></th>\n",
       "      <th>section_name</th>\n",
       "      <th>output</th>\n",
       "    </tr>\n",
       "  </thead>\n",
       "  <tbody>\n",
       "    <tr>\n",
       "      <th>0</th>\n",
       "      <td>PROFILE OVERVIEW</td>\n",
       "      <td>Functional analyst with over 5 years of experi...</td>\n",
       "    </tr>\n",
       "    <tr>\n",
       "      <th>1</th>\n",
       "      <td>PROFESSIONAL EDUCATION</td>\n",
       "      <td>Industrial Engineering\\nIndustrial Engineering</td>\n",
       "    </tr>\n",
       "    <tr>\n",
       "      <th>2</th>\n",
       "      <td>INDUSTRY EXPERIENCE</td>\n",
       "      <td>Communications, Media &amp; Technology\\nFinancial ...</td>\n",
       "    </tr>\n",
       "    <tr>\n",
       "      <th>3</th>\n",
       "      <td>FUNCTIONAL EXPERIENCE</td>\n",
       "      <td>SAP FI\\nSAP MM\\nSAP PM\\nProcess Automation\\nIn...</td>\n",
       "    </tr>\n",
       "    <tr>\n",
       "      <th>4</th>\n",
       "      <td>CERTIFICATIONS/TRAINING</td>\n",
       "      <td>First Certificate in English – FCE\\nCaptton co...</td>\n",
       "    </tr>\n",
       "  </tbody>\n",
       "</table>\n",
       "</div>"
      ],
      "text/plain": [
       "              section_name                                             output\n",
       "0         PROFILE OVERVIEW  Functional analyst with over 5 years of experi...\n",
       "1   PROFESSIONAL EDUCATION     Industrial Engineering\\nIndustrial Engineering\n",
       "2      INDUSTRY EXPERIENCE  Communications, Media & Technology\\nFinancial ...\n",
       "3    FUNCTIONAL EXPERIENCE  SAP FI\\nSAP MM\\nSAP PM\\nProcess Automation\\nIn...\n",
       "4  CERTIFICATIONS/TRAINING  First Certificate in English – FCE\\nCaptton co..."
      ]
     },
     "execution_count": 31,
     "metadata": {},
     "output_type": "execute_result"
    }
   ],
   "source": [
    "df_text.head()"
   ]
  },
  {
   "cell_type": "code",
   "execution_count": 35,
   "id": "1c4b2441",
   "metadata": {},
   "outputs": [],
   "source": [
    "df_ppt = pd.DataFrame(list(dic.items()), columns=['section_name', 'output'])\n",
    "df_ppt['section_name'] = df_ppt['section_name'].str.upper()"
   ]
  },
  {
   "cell_type": "code",
   "execution_count": 36,
   "id": "4e1b5918",
   "metadata": {},
   "outputs": [
    {
     "data": {
      "text/html": [
       "<div>\n",
       "<style scoped>\n",
       "    .dataframe tbody tr th:only-of-type {\n",
       "        vertical-align: middle;\n",
       "    }\n",
       "\n",
       "    .dataframe tbody tr th {\n",
       "        vertical-align: top;\n",
       "    }\n",
       "\n",
       "    .dataframe thead th {\n",
       "        text-align: right;\n",
       "    }\n",
       "</style>\n",
       "<table border=\"1\" class=\"dataframe\">\n",
       "  <thead>\n",
       "    <tr style=\"text-align: right;\">\n",
       "      <th></th>\n",
       "      <th>section_name</th>\n",
       "      <th>output</th>\n",
       "    </tr>\n",
       "  </thead>\n",
       "  <tbody>\n",
       "    <tr>\n",
       "      <th>0</th>\n",
       "      <td>RECTANGLE 4</td>\n",
       "      <td></td>\n",
       "    </tr>\n",
       "    <tr>\n",
       "      <th>1</th>\n",
       "      <td>PICTURE 40</td>\n",
       "      <td>None</td>\n",
       "    </tr>\n",
       "    <tr>\n",
       "      <th>2</th>\n",
       "      <td>NOMBRE</td>\n",
       "      <td>Valentín Enzo Bertolini</td>\n",
       "    </tr>\n",
       "    <tr>\n",
       "      <th>3</th>\n",
       "      <td>TEXTBOX 80</td>\n",
       "      <td>CERTIFICATIONS/TRAINING</td>\n",
       "    </tr>\n",
       "    <tr>\n",
       "      <th>4</th>\n",
       "      <td>FUNCTIONAL EXPERIENCE</td>\n",
       "      <td>Functional Experience</td>\n",
       "    </tr>\n",
       "  </tbody>\n",
       "</table>\n",
       "</div>"
      ],
      "text/plain": [
       "            section_name                   output\n",
       "0            RECTANGLE 4                         \n",
       "1             PICTURE 40                     None\n",
       "2                 NOMBRE  Valentín Enzo Bertolini\n",
       "3             TEXTBOX 80  CERTIFICATIONS/TRAINING\n",
       "4  FUNCTIONAL EXPERIENCE    Functional Experience"
      ]
     },
     "execution_count": 36,
     "metadata": {},
     "output_type": "execute_result"
    }
   ],
   "source": [
    "df_ppt.head()"
   ]
  },
  {
   "cell_type": "code",
   "execution_count": 39,
   "id": "34a4b2c6",
   "metadata": {},
   "outputs": [],
   "source": [
    "# replace values in ppt template with df_textthat contains the GPT output\n",
    "df_ppt_upd = pd.merge(df_ppt[['section_name']], df_text, how = 'inner', on='section_name')"
   ]
  },
  {
   "cell_type": "code",
   "execution_count": 41,
   "id": "ff39b1b7",
   "metadata": {},
   "outputs": [
    {
     "data": {
      "text/html": [
       "<div>\n",
       "<style scoped>\n",
       "    .dataframe tbody tr th:only-of-type {\n",
       "        vertical-align: middle;\n",
       "    }\n",
       "\n",
       "    .dataframe tbody tr th {\n",
       "        vertical-align: top;\n",
       "    }\n",
       "\n",
       "    .dataframe thead th {\n",
       "        text-align: right;\n",
       "    }\n",
       "</style>\n",
       "<table border=\"1\" class=\"dataframe\">\n",
       "  <thead>\n",
       "    <tr style=\"text-align: right;\">\n",
       "      <th></th>\n",
       "      <th>section_name</th>\n",
       "      <th>output</th>\n",
       "    </tr>\n",
       "  </thead>\n",
       "  <tbody>\n",
       "    <tr>\n",
       "      <th>0</th>\n",
       "      <td>FUNCTIONAL EXPERIENCE</td>\n",
       "      <td>SAP FI\\nSAP MM\\nSAP PM\\nProcess Automation\\nIn...</td>\n",
       "    </tr>\n",
       "    <tr>\n",
       "      <th>1</th>\n",
       "      <td>INDUSTRY EXPERIENCE</td>\n",
       "      <td>Communications, Media &amp; Technology\\nFinancial ...</td>\n",
       "    </tr>\n",
       "    <tr>\n",
       "      <th>2</th>\n",
       "      <td>PROFESSIONAL EDUCATION</td>\n",
       "      <td>Industrial Engineering\\nIndustrial Engineering</td>\n",
       "    </tr>\n",
       "    <tr>\n",
       "      <th>3</th>\n",
       "      <td>LANGUAGES</td>\n",
       "      <td>English Advanced</td>\n",
       "    </tr>\n",
       "  </tbody>\n",
       "</table>\n",
       "</div>"
      ],
      "text/plain": [
       "             section_name                                             output\n",
       "0   FUNCTIONAL EXPERIENCE  SAP FI\\nSAP MM\\nSAP PM\\nProcess Automation\\nIn...\n",
       "1     INDUSTRY EXPERIENCE  Communications, Media & Technology\\nFinancial ...\n",
       "2  PROFESSIONAL EDUCATION     Industrial Engineering\\nIndustrial Engineering\n",
       "3               LANGUAGES                                   English Advanced"
      ]
     },
     "execution_count": 41,
     "metadata": {},
     "output_type": "execute_result"
    }
   ],
   "source": [
    "df_ppt_upd.head()"
   ]
  },
  {
   "cell_type": "code",
   "execution_count": null,
   "id": "3589846b",
   "metadata": {},
   "outputs": [],
   "source": [
    "\"functional experience text box\""
   ]
  }
 ],
 "metadata": {
  "kernelspec": {
   "display_name": "Python 3",
   "language": "python",
   "name": "python3"
  },
  "language_info": {
   "codemirror_mode": {
    "name": "ipython",
    "version": 3
   },
   "file_extension": ".py",
   "mimetype": "text/x-python",
   "name": "python",
   "nbconvert_exporter": "python",
   "pygments_lexer": "ipython3",
   "version": "3.10.0"
  }
 },
 "nbformat": 4,
 "nbformat_minor": 5
}
